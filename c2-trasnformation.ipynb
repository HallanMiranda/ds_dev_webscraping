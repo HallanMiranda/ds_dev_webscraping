{
 "cells": [
  {
   "cell_type": "markdown",
   "metadata": {},
   "source": [
    "# Regex"
   ]
  },
  {
   "cell_type": "code",
   "execution_count": 1,
   "metadata": {},
   "outputs": [],
   "source": [
    "import pandas as pd \n",
    "import numpy as np\n",
    "import re"
   ]
  },
  {
   "cell_type": "code",
   "execution_count": 2,
   "metadata": {},
   "outputs": [],
   "source": [
    "data = pd.read_csv('./dataset/data_web.csv')\n",
    "# renomeando as cols\n",
    "data.rename( columns= lambda x: x.lower(), inplace=True)\n"
   ]
  },
  {
   "cell_type": "code",
   "execution_count": 3,
   "metadata": {},
   "outputs": [],
   "source": [
    "# ================================== transfommacao das col ======================================\n",
    "\n",
    "data = data.dropna(subset=['product_id'])\n",
    "data['product_id'] = data['product_id'].astype(int)\n",
    "\n",
    "# product_name\n",
    "data['product_name'] = data['product_name'].apply(lambda x: x.replace(' ', '_').lower())\n",
    "\n",
    "# product_price - Remover o símbolo '$' e converter para float\n",
    "data['product_price'] = data['product_price'].apply(lambda x: x.replace('$', '') if isinstance(x, str) else x ).astype(float)\n",
    "\n",
    "# scrapy_datetime\n",
    "data['scrapy_datetime'] = pd.to_datetime(data['scrapy_datetime'], format='%Y-%m-%d %H:%M:%S:')\n",
    "\n",
    "# Color Name\n",
    "data['color_name'] = data['color_name'].apply(lambda x: x.replace(' ', '_').replace('/', '_').lower() if isinstance(x, str) else x)\n",
    "\n",
    "# Fit\n",
    "data['fit'] = data['fit'].apply(lambda x: x.replace(' ', '_').lower() if isinstance(x, str) else x)\n",
    "\n",
    "# pocket lining  / Removendo a coluna 'poket lining'\n",
    "\n",
    "# Size\n",
    "data['size'] = data['size'].apply(lambda x: x.replace(' ', '_').lower() if isinstance(x, str) else x)\n",
    "\n",
    "# size_number - Extraido números da coluna 'size'\n",
    "data['size_number'] = data['size'].apply(lambda x: re.search('\\d{3}cm', x).group(0) if isinstance(x, str) and re.search('\\d{3}cm', x) else x)\n",
    "data['size_number'] = data['size_number'].apply( lambda x: re.search('\\d+', x).group(0) if pd.notnull( x ) else x )\n",
    "\n",
    "# size_model - Extraido números da coluna 'size'\n",
    "data['size_model'] = data['size'].apply( lambda x: re.search('\\d+/\\\\d+', x).group(0) if isinstance(x, str) and re.search('\\d+/\\\\d+', x) else x  )\n",
    "\n"
   ]
  },
  {
   "cell_type": "code",
   "execution_count": 4,
   "metadata": {},
   "outputs": [],
   "source": [
    "# ========================== Drop duplicates ==================================================\n",
    "data = data.drop_duplicates(subset=['product_id', 'product_name', 'product_category', 'product_price','scrapy_datetime', 'style_id', 'color_id', 'color_name', 'fit'], keep='last')\n",
    "\n",
    "# reset Index\n",
    "data = data.reset_index(drop=True)\n",
    "\n"
   ]
  },
  {
   "cell_type": "code",
   "execution_count": 5,
   "metadata": {},
   "outputs": [],
   "source": [
    "# ========================== brack composition by comma =================================\n",
    "\n",
    "df1 = data['composition'].str.split(',', expand=True)\n",
    "\n",
    "#criando um dataframe vazio do tamanho de data para alocar as colunas em ordem\n",
    "df_ref = pd.DataFrame( index=np.arange( len( data ) ), columns=['cotton', 'Spandex', 'Elastomultiester'] )\n",
    " \n",
    "# ======= DF Cotton =====================\n",
    "\n",
    "df_cotton = df1[0] # data que tem só cotton\n",
    "df_cotton.name = 'cotton' # passo o name para a coluna\n",
    " \n",
    "df_ref = pd.concat([ df_ref, df_cotton], axis=1) # faco a uniao com concat \n",
    "df_ref = df_ref.iloc[:, ~df_ref.columns.duplicated(keep='last')] # e dorp a col original q era so NaN\n",
    "\n",
    "df_ref['cotton'] = df_ref['cotton'].fillna('cotton 0%') # td coton vzio passsa a ser coton 0%\n",
    "\n",
    "# ============  DF Spandex  =======================\n",
    "\n",
    "df_spandex = df1.loc[df1[1].str.contains('spandex', na=False), 1]\n",
    "df_spandex.name = 'spandex'\n",
    "\n",
    "# combine spandex from brch colum 1 and 2\n",
    "df_spandex =df_spandex.combine_first( df1[2] )\n",
    "\n",
    "df_ref = pd.concat([df_ref, df_spandex], axis=1)\n",
    "df_ref = df_ref.iloc[:, ~df_ref.columns.duplicated(keep='last')]\n",
    "df_ref['spandex'] = df_ref['spandex'].fillna('spandex 0%')\n",
    "\n",
    "# ================  DF Elastomultiester  ===========================\n",
    "\t\n",
    "df_Elastomultiester\t = df1.loc[ df1[1].str.contains('Elastomultiester', na=False), 1]\n",
    "df_Elastomultiester.name = 'Elastomultiester'\n",
    "\n",
    "df_ref = pd.concat([ df_ref, df_Elastomultiester], axis=1)\n",
    "df_ref = df_ref.iloc[:, ~df_ref.columns.duplicated(keep='last')]\n",
    "df_ref['Elastomultiester'] = df_ref['Elastomultiester'].fillna('Elastomultiester 0%')\n",
    "\n",
    "df_ref = df_ref.drop('Spandex', axis=1)\n",
    "\n",
    "# ========= Concat ================\n",
    "\n",
    "data = pd.concat([data, df_ref], axis=1)\n",
    "\n"
   ]
  },
  {
   "cell_type": "code",
   "execution_count": 6,
   "metadata": {},
   "outputs": [],
   "source": [
    "# =====================  format composition data =====================================\n",
    "\n",
    "# cotton\n",
    "data['cotton'] = data['cotton'].apply( lambda x: int( re.search( '\\d+', x ).group(0) ) / 100 if pd.notnull( x ) else x )\n",
    "\n",
    "#spandex.\n",
    "data['spandex'] = data['spandex'].apply( lambda x: int( re.search('\\d+', x).group(0) ) /100 if pd.notnull(x) else x )\n",
    "\n",
    "# Elastomultiester\n",
    "data['Elastomultiester'] = data['Elastomultiester'].apply( lambda x: int(re.search('\\d+', x).group(0))/ 100 if pd.notnull( x ) else x)\n",
    "\n"
   ]
  },
  {
   "cell_type": "code",
   "execution_count": 7,
   "metadata": {},
   "outputs": [
    {
     "data": {
      "text/plain": [
       "(256, 14)"
      ]
     },
     "execution_count": 7,
     "metadata": {},
     "output_type": "execute_result"
    }
   ],
   "source": [
    "# ============ Check =================================\n",
    "\n",
    "data = data.drop( columns=['pocket lining', 'size', 'composition'], axis=1 )\n",
    "data = data.drop_duplicates()\n",
    "data.shape\n"
   ]
  },
  {
   "cell_type": "code",
   "execution_count": 9,
   "metadata": {},
   "outputs": [],
   "source": [
    "# criando um csv\n",
    "# dados = 'data_webs_treated.csv'\n",
    "# data.to_csv(dados, index=False)"
   ]
  },
  {
   "cell_type": "code",
   "execution_count": null,
   "metadata": {},
   "outputs": [],
   "source": []
  },
  {
   "cell_type": "code",
   "execution_count": null,
   "metadata": {},
   "outputs": [],
   "source": []
  },
  {
   "cell_type": "code",
   "execution_count": null,
   "metadata": {},
   "outputs": [],
   "source": []
  },
  {
   "cell_type": "code",
   "execution_count": null,
   "metadata": {},
   "outputs": [],
   "source": []
  },
  {
   "cell_type": "code",
   "execution_count": null,
   "metadata": {},
   "outputs": [],
   "source": []
  }
 ],
 "metadata": {
  "kernelspec": {
   "display_name": "Python 3",
   "language": "python",
   "name": "python3"
  },
  "language_info": {
   "codemirror_mode": {
    "name": "ipython",
    "version": 3
   },
   "file_extension": ".py",
   "mimetype": "text/x-python",
   "name": "python",
   "nbconvert_exporter": "python",
   "pygments_lexer": "ipython3",
   "version": "3.11.5"
  },
  "orig_nbformat": 4
 },
 "nbformat": 4,
 "nbformat_minor": 2
}
