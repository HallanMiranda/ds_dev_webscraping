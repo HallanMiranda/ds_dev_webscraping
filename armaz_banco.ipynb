{
 "cells": [
  {
   "cell_type": "code",
   "execution_count": 43,
   "metadata": {},
   "outputs": [],
   "source": [
    "import pandas as pd\n",
    "import sqlite3\n",
    "\n",
    "from sqlalchemy import create_engine"
   ]
  },
  {
   "cell_type": "code",
   "execution_count": 44,
   "metadata": {},
   "outputs": [],
   "source": [
    "data = pd.read_csv('./dataset/data_webs_treated.csv')"
   ]
  },
  {
   "cell_type": "code",
   "execution_count": 45,
   "metadata": {},
   "outputs": [],
   "source": [
    "query_showroom_schema = \"\"\"\n",
    "    CREATE TABLE vitrine ( \n",
    "        product_id          INTEGER, \n",
    "        product_name        TEXT,\n",
    "        product_category    TEXT,\n",
    "        product_price       REAL,\n",
    "        scrapy_datetime     TEXT,\n",
    "        style_id            INTEGER,\n",
    "        color_id            INTEGER,\n",
    "        color_name          TEXT,\n",
    "        fit                 TEXT,\n",
    "        size_number         REAL,\n",
    "        size_model          TEXT,\n",
    "        cotton              REAL,\n",
    "        spandex             REAL,\n",
    "        Elastomultiester    REAL\n",
    "    )\n",
    "\"\"\""
   ]
  },
  {
   "cell_type": "code",
   "execution_count": 46,
   "metadata": {},
   "outputs": [],
   "source": [
    "# CONECT TO DATABASE CONECÇAO É ( nativa do sqlite 3 ) == ESSE COMAND CRIA \n",
    "conn = sqlite3.connect( 'hm_db.sqlite' ) # conect em um bnco de dados / se nao existir ele cria um novo\n",
    "cursor = conn.execute( query_showroom_schema ) # planeja a excucao da query no banco de dados/ envia a query para o banco\n",
    "conn.commit() # executa no banco de dados / diz para realmente execultar \n",
    "cursor.close() # fecha a coneccao para nao ficar aberta / sempre bom fechar explicitamente "
   ]
  },
  {
   "cell_type": "code",
   "execution_count": 47,
   "metadata": {},
   "outputs": [],
   "source": [
    "# conect no b e faz um query com a tb criada:\n",
    "\n",
    "# impor conec debtro do ba de dad \n",
    "# BIBLIOTECA SQL AL Q TE CONECCAO PARA VARIOS BANCSAS DE DADOS == ESSE COMAND E SO PARA ARQUIVO CRIADO\n",
    "# passas as coneccoes host usuario pssowor banco de dados\n",
    "conn = create_engine('sqlite:///hm_db.sqlite', echo=False) # echo =false para ao printa na tl \n"
   ]
  },
  {
   "cell_type": "code",
   "execution_count": 51,
   "metadata": {},
   "outputs": [
    {
     "data": {
      "text/html": [
       "<div>\n",
       "<style scoped>\n",
       "    .dataframe tbody tr th:only-of-type {\n",
       "        vertical-align: middle;\n",
       "    }\n",
       "\n",
       "    .dataframe tbody tr th {\n",
       "        vertical-align: top;\n",
       "    }\n",
       "\n",
       "    .dataframe thead th {\n",
       "        text-align: right;\n",
       "    }\n",
       "</style>\n",
       "<table border=\"1\" class=\"dataframe\">\n",
       "  <thead>\n",
       "    <tr style=\"text-align: right;\">\n",
       "      <th></th>\n",
       "      <th>product_id</th>\n",
       "      <th>product_name</th>\n",
       "      <th>product_category</th>\n",
       "      <th>product_price</th>\n",
       "      <th>scrapy_datetime</th>\n",
       "      <th>style_id</th>\n",
       "      <th>color_id</th>\n",
       "      <th>color_name</th>\n",
       "      <th>fit</th>\n",
       "      <th>size_number</th>\n",
       "      <th>size_model</th>\n",
       "      <th>cotton</th>\n",
       "      <th>spandex</th>\n",
       "      <th>Elastomultiester</th>\n",
       "    </tr>\n",
       "  </thead>\n",
       "  <tbody>\n",
       "    <tr>\n",
       "      <th>0</th>\n",
       "      <td>1130309005</td>\n",
       "      <td>baggy_jeans</td>\n",
       "      <td>men_jeans_loose</td>\n",
       "      <td>39.99</td>\n",
       "      <td>2023-10-04 14:36:16</td>\n",
       "      <td>1130309</td>\n",
       "      <td>5</td>\n",
       "      <td>denim_black</td>\n",
       "      <td>loose_fit</td>\n",
       "      <td>187.0</td>\n",
       "      <td>31/32</td>\n",
       "      <td>1.00</td>\n",
       "      <td>0.0</td>\n",
       "      <td>0.0</td>\n",
       "    </tr>\n",
       "    <tr>\n",
       "      <th>1</th>\n",
       "      <td>1130309005</td>\n",
       "      <td>baggy_jeans</td>\n",
       "      <td>men_jeans_loose</td>\n",
       "      <td>39.99</td>\n",
       "      <td>2023-10-04 14:36:16</td>\n",
       "      <td>1130309</td>\n",
       "      <td>5</td>\n",
       "      <td>dark_denim_gray</td>\n",
       "      <td>loose_fit</td>\n",
       "      <td>187.0</td>\n",
       "      <td>31/32</td>\n",
       "      <td>1.00</td>\n",
       "      <td>0.0</td>\n",
       "      <td>0.0</td>\n",
       "    </tr>\n",
       "    <tr>\n",
       "      <th>2</th>\n",
       "      <td>1130309005</td>\n",
       "      <td>baggy_jeans</td>\n",
       "      <td>men_jeans_loose</td>\n",
       "      <td>39.99</td>\n",
       "      <td>2023-10-04 14:36:16</td>\n",
       "      <td>1130309</td>\n",
       "      <td>5</td>\n",
       "      <td>light_denim_blue</td>\n",
       "      <td>loose_fit</td>\n",
       "      <td>187.0</td>\n",
       "      <td>31/32</td>\n",
       "      <td>1.00</td>\n",
       "      <td>0.0</td>\n",
       "      <td>0.0</td>\n",
       "    </tr>\n",
       "    <tr>\n",
       "      <th>3</th>\n",
       "      <td>1130309005</td>\n",
       "      <td>baggy_jeans</td>\n",
       "      <td>men_jeans_loose</td>\n",
       "      <td>39.99</td>\n",
       "      <td>2023-10-04 14:36:16</td>\n",
       "      <td>1130309</td>\n",
       "      <td>5</td>\n",
       "      <td>dark_denim_blue</td>\n",
       "      <td>loose_fit</td>\n",
       "      <td>187.0</td>\n",
       "      <td>31/32</td>\n",
       "      <td>1.00</td>\n",
       "      <td>0.0</td>\n",
       "      <td>0.0</td>\n",
       "    </tr>\n",
       "    <tr>\n",
       "      <th>4</th>\n",
       "      <td>985159001</td>\n",
       "      <td>skinny_jeans</td>\n",
       "      <td>men_jeans_skinny</td>\n",
       "      <td>29.99</td>\n",
       "      <td>2023-10-04 14:36:16</td>\n",
       "      <td>985159</td>\n",
       "      <td>1</td>\n",
       "      <td>black</td>\n",
       "      <td>skinny_fit</td>\n",
       "      <td>180.0</td>\n",
       "      <td>33/32</td>\n",
       "      <td>0.99</td>\n",
       "      <td>0.0</td>\n",
       "      <td>0.0</td>\n",
       "    </tr>\n",
       "  </tbody>\n",
       "</table>\n",
       "</div>"
      ],
      "text/plain": [
       "   product_id  product_name  product_category  product_price  \\\n",
       "0  1130309005   baggy_jeans   men_jeans_loose          39.99   \n",
       "1  1130309005   baggy_jeans   men_jeans_loose          39.99   \n",
       "2  1130309005   baggy_jeans   men_jeans_loose          39.99   \n",
       "3  1130309005   baggy_jeans   men_jeans_loose          39.99   \n",
       "4   985159001  skinny_jeans  men_jeans_skinny          29.99   \n",
       "\n",
       "       scrapy_datetime  style_id  color_id        color_name         fit  \\\n",
       "0  2023-10-04 14:36:16   1130309         5       denim_black   loose_fit   \n",
       "1  2023-10-04 14:36:16   1130309         5   dark_denim_gray   loose_fit   \n",
       "2  2023-10-04 14:36:16   1130309         5  light_denim_blue   loose_fit   \n",
       "3  2023-10-04 14:36:16   1130309         5   dark_denim_blue   loose_fit   \n",
       "4  2023-10-04 14:36:16    985159         1             black  skinny_fit   \n",
       "\n",
       "   size_number size_model  cotton  spandex  Elastomultiester  \n",
       "0        187.0      31/32    1.00      0.0               0.0  \n",
       "1        187.0      31/32    1.00      0.0               0.0  \n",
       "2        187.0      31/32    1.00      0.0               0.0  \n",
       "3        187.0      31/32    1.00      0.0               0.0  \n",
       "4        180.0      33/32    0.99      0.0               0.0  "
      ]
     },
     "execution_count": 51,
     "metadata": {},
     "output_type": "execute_result"
    }
   ],
   "source": [
    "# SELECIONAR DADOS DA MIHA TABLE\n",
    "\n",
    "# seleciona tudo from vitrine\n",
    "\n",
    "query = \"\"\"\n",
    "    SELECT * FROM vitrine\n",
    "\"\"\"\n",
    "df = pd.read_sql_query( query, conn ) # pass uma query e uma coneccao p/ onde quero q a query rode\n",
    "df.head()"
   ]
  },
  {
   "cell_type": "code",
   "execution_count": 50,
   "metadata": {},
   "outputs": [
    {
     "data": {
      "text/plain": [
       "256"
      ]
     },
     "execution_count": 50,
     "metadata": {},
     "output_type": "execute_result"
    }
   ],
   "source": [
    "# insert data to table / Execulta a query recupera ela \n",
    "data.to_sql( 'vitrine', con=conn, if_exists='append', index=False )"
   ]
  },
  {
   "cell_type": "code",
   "execution_count": null,
   "metadata": {},
   "outputs": [],
   "source": [
    "# command Update\n",
    "\n",
    "# comanad --Drop\n",
    "\n",
    "# command -- Alter table (alterar o nome da tabela)\n",
    "\n",
    "# create index (cria um idex chave de busca)\n",
    "\n",
    "# Fazer o cursinho sqlie tutorial . net"
   ]
  }
 ],
 "metadata": {
  "kernelspec": {
   "display_name": "Python 3",
   "language": "python",
   "name": "python3"
  },
  "language_info": {
   "codemirror_mode": {
    "name": "ipython",
    "version": 3
   },
   "file_extension": ".py",
   "mimetype": "text/x-python",
   "name": "python",
   "nbconvert_exporter": "python",
   "pygments_lexer": "ipython3",
   "version": "3.11.5"
  },
  "orig_nbformat": 4
 },
 "nbformat": 4,
 "nbformat_minor": 2
}
