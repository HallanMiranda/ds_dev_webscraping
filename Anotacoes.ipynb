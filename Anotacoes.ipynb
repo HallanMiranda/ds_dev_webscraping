{
 "cells": [
  {
   "cell_type": "code",
   "execution_count": 10,
   "metadata": {},
   "outputs": [],
   "source": [
    "from bs4 import BeautifulSoup"
   ]
  },
  {
   "cell_type": "code",
   "execution_count": null,
   "metadata": {},
   "outputs": [],
   "source": []
  },
  {
   "cell_type": "code",
   "execution_count": 12,
   "metadata": {},
   "outputs": [],
   "source": [
    "# classe html\n",
    "\n",
    "html_doc = \"\"\"<html><head><title>The Dormouse's story</title></head>\n",
    "<body>\n",
    "<p class=\"title\"><b>The Dormouse's story</b></p>\n",
    "\n",
    "<p class=\"story\">Once upon a time there were three little sisters; and their names were\n",
    "<a href=\"http://example.com/elsie\" class=\"sister\" id=\"link1\">Elsie</a>,\n",
    "<a href=\"http://example.com/lacie\" class=\"sister\" id=\"link2\">Lacie</a> and\n",
    "<a href=\"http://example.com/tillie\" class=\"sister\" id=\"link3\">Tillie</a>;\n",
    "and they lived at the bottom of a well.</p>\n",
    "\n",
    "<p class=\"story\">...</p>\n",
    "\"\"\""
   ]
  },
  {
   "cell_type": "code",
   "execution_count": 15,
   "metadata": {},
   "outputs": [],
   "source": [
    "# estancia a classe \n",
    "soup = BeautifulSoup(html_doc,'html.parser') # parser é nativo mais pode importa o xml pode instala"
   ]
  },
  {
   "cell_type": "code",
   "execution_count": 65,
   "metadata": {},
   "outputs": [
    {
     "name": "stdout",
     "output_type": "stream",
     "text": [
      "# acesso a tag title\n",
      " 1 <title>The Dormouse's story</title>\n",
      "====================\n",
      "# acesso ao  Body e ao primeiro paragrafo dentro do Bod \n",
      "2 <p class=\"title\"><b>The Dormouse's story</b></p>\n",
      "====================\n",
      "# pega e separa em uma lista \n",
      "É 3 [<p class=\"title\"><b>The Dormouse's story</b></p>, <p class=\"story\">Once upon a time there were three little sisters; and their names were\n",
      "<a class=\"sister\" href=\"http://example.com/elsie\" id=\"link1\">Elsie</a>,\n",
      "<a class=\"sister\" href=\"http://example.com/lacie\" id=\"link2\">Lacie</a> and\n",
      "<a class=\"sister\" href=\"http://example.com/tillie\" id=\"link3\">Tillie</a>;\n",
      "and they lived at the bottom of a well.</p>, <p class=\"story\">...</p>]\n",
      "====================\n",
      "# acesso ao segundo  ou terceiro etc.. é atravez da class \n",
      "4 <p class=\"story\">Once upon a time there were three little sisters; and their names were\n",
      "<a class=\"sister\" href=\"http://example.com/elsie\" id=\"link1\">Elsie</a>,\n",
      "<a class=\"sister\" href=\"http://example.com/lacie\" id=\"link2\">Lacie</a> and\n",
      "<a class=\"sister\" href=\"http://example.com/tillie\" id=\"link3\">Tillie</a>;\n",
      "and they lived at the bottom of a well.</p>\n",
      "====================\n",
      "# pega tods o paragrafos com a classe stor \n",
      "5 [<p class=\"story\">Once upon a time there were three little sisters; and their names were\n",
      "<a class=\"sister\" href=\"http://example.com/elsie\" id=\"link1\">Elsie</a>,\n",
      "<a class=\"sister\" href=\"http://example.com/lacie\" id=\"link2\">Lacie</a> and\n",
      "<a class=\"sister\" href=\"http://example.com/tillie\" id=\"link3\">Tillie</a>;\n",
      "and they lived at the bottom of a well.</p>, <p class=\"story\">...</p>]\n",
      "====================\n",
      "# para indentificar bem deixa explicito e so coloca a ckasse_ Quando temos varios paragrafos e queremos pegar um especifco e so pegar pela cless \n",
      "6 [<p class=\"story\">Once upon a time there were three little sisters; and their names were\n",
      "<a class=\"sister\" href=\"http://example.com/elsie\" id=\"link1\">Elsie</a>,\n",
      "<a class=\"sister\" href=\"http://example.com/lacie\" id=\"link2\">Lacie</a> and\n",
      "<a class=\"sister\" href=\"http://example.com/tillie\" id=\"link3\">Tillie</a>;\n",
      "and they lived at the bottom of a well.</p>, <p class=\"story\">...</p>]\n",
      "====================\n",
      "# Pegar so os link \"pegar o leise\" e passa a classe nao da para diferencia pq chama os tres disponiveis \n",
      "7777 [<a class=\"sister\" href=\"http://example.com/elsie\" id=\"link1\">Elsie</a>, <a class=\"sister\" href=\"http://example.com/lacie\" id=\"link2\">Lacie</a>, <a class=\"sister\" href=\"http://example.com/tillie\" id=\"link3\">Tillie</a>]\n",
      "====================\n",
      "# para diferencia e chama o link especifico podemos pegar o id= \n",
      "8 [<a class=\"sister\" href=\"http://example.com/elsie\" id=\"link1\">Elsie</a>]\n",
      "====================\n",
      "## para pegar a string dentro do html \"Elsie \n",
      "9 Elsie\n",
      "====================\n"
     ]
    }
   ],
   "source": [
    "# Colinha recaptulando coletando dados\n",
    "\n",
    "## Metodos para estrcao :\n",
    "\n",
    "print(f'# acesso a tag title')\n",
    "print(f' 1', soup.title)\n",
    "print('====================')\n",
    "\n",
    "print( '# acesso ao  Body e ao primeiro paragrafo dentro do Bod ')\n",
    "print( f'2',soup.body.p )# so consigo pegar o primeiro como pego o segundo\n",
    "print('====================')\n",
    "\n",
    "print( '# pega e separa em uma lista ')\n",
    "print(f'É 3', soup.find_all('p')) # passa primeiro o paragrafo que quer  e\n",
    "print('====================')\n",
    "\n",
    "print( '# acesso ao segundo  ou terceiro etc.. é atravez da class ')\n",
    "print(f'4', soup.find_all('p')[1]) # passa primeiro o paragrafo que quer  e\n",
    "print('====================')\n",
    "\n",
    "print( '# pega tods o paragrafos com a classe stor ')\n",
    "print(f'5', soup.find_all( 'p', 'story' ))\n",
    "print('====================')\n",
    "\n",
    "print( '# para indentificar bem deixa explicito e so coloca a ckasse_ Quando temos varios paragrafos e queremos pegar um especifco e so pegar pela cless ')\n",
    "print(f'6', soup.find_all( 'p', class_='story' ))\n",
    "print('====================')\n",
    "\n",
    "print( '# Pegar so os link \"pegar o leise\" e passa a classe nao da para diferencia pq chama os tres disponiveis ')\n",
    "print(f'7777', soup.find_all( 'a', class_='sister' ))\n",
    "print('====================')\n",
    "\n",
    "print( '# para diferencia e chama o link especifico podemos pegar o id= ')\n",
    "print(f'8',soup.find_all('a', id='link1'))\n",
    "print('====================')\n",
    "\n",
    "print( '## para pegar a string dentro do html \"Elsie ')\n",
    "print( f'9',soup.find_all('a', id='link1')[0].get_text() ) # ou .string\n",
    "print('====================')"
   ]
  },
  {
   "cell_type": "code",
   "execution_count": 49,
   "metadata": {},
   "outputs": [
    {
     "data": {
      "text/plain": [
       "[<a class=\"sister\" href=\"http://example.com/elsie\" id=\"link1\">Elsie</a>]"
      ]
     },
     "execution_count": 49,
     "metadata": {},
     "output_type": "execute_result"
    }
   ],
   "source": [
    "soup.find_all('a', id='link1')"
   ]
  },
  {
   "cell_type": "code",
   "execution_count": 58,
   "metadata": {},
   "outputs": [
    {
     "data": {
      "text/plain": [
       "'Elsie'"
      ]
     },
     "execution_count": 58,
     "metadata": {},
     "output_type": "execute_result"
    }
   ],
   "source": [
    "# cols que compeem as tabelas que temos que criar\n",
    "# id #product_name #product_color\n"
   ]
  },
  {
   "cell_type": "code",
   "execution_count": null,
   "metadata": {},
   "outputs": [],
   "source": [
    "direto ao ponto \n",
    "\n",
    "detalha os objetivo quando se aplica\n",
    "\n",
    "dica : mercado / como cobra / fazer uma pesquisa de regoap precifica /  "
   ]
  },
  {
   "cell_type": "markdown",
   "metadata": {},
   "source": []
  },
  {
   "cell_type": "markdown",
   "metadata": {},
   "source": []
  },
  {
   "cell_type": "markdown",
   "metadata": {},
   "source": []
  },
  {
   "cell_type": "markdown",
   "metadata": {},
   "source": [
    "# cod de eccomenrce  arvore de prodts\n",
    "\n",
    "### = arvore de ecomerce tradicional\n",
    "\n",
    "style id \n",
    "        -> product id\n",
    "        -> color id\n",
    "        -> sku \n",
    "\n",
    "### Style da roupa = tipo da roupa que fica embaixo da categoria\n",
    "\n",
    "Style id  -> jeans slin\n",
    "\n",
    "        -> style id + color id  -> product id = estilo + cor = product_id e a cor e sempre os 3 ultimos numeros\n",
    "        -> style id + Color id + size id = SKU minima cod do prod mini granularidade td prod style + cor = prod depois tamanho nesse prod vira SKU"
   ]
  }
 ],
 "metadata": {
  "kernelspec": {
   "display_name": "Python 3",
   "language": "python",
   "name": "python3"
  },
  "language_info": {
   "codemirror_mode": {
    "name": "ipython",
    "version": 3
   },
   "file_extension": ".py",
   "mimetype": "text/x-python",
   "name": "python",
   "nbconvert_exporter": "python",
   "pygments_lexer": "ipython3",
   "version": "3.11.4"
  },
  "orig_nbformat": 4
 },
 "nbformat": 4,
 "nbformat_minor": 2
}
