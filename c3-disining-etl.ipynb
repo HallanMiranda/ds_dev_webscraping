{
 "cells": [
  {
   "cell_type": "markdown",
   "metadata": {},
   "source": [
    "# Imports"
   ]
  },
  {
   "cell_type": "code",
   "execution_count": 17,
   "metadata": {},
   "outputs": [],
   "source": [
    "\n",
    "import pandas as pd\n",
    "import numpy as np\n",
    "from datetime import datetime \n",
    "import requests\n",
    "import math\n",
    "import re\n",
    "\n",
    "from bs4 import BeautifulSoup"
   ]
  },
  {
   "cell_type": "markdown",
   "metadata": {},
   "source": [
    "# Collect data"
   ]
  },
  {
   "cell_type": "code",
   "execution_count": 18,
   "metadata": {},
   "outputs": [],
   "source": [
    "# Parameters\n",
    "headers = {'User-Agent': 'Mozilla/5.0 (Macintosh; Intel Mac OS X 10_11_5) AppleWebKit/537.36 (KHTML, like Gecko) Chrome/50.0.2661.102 Safari/537.36'}\n",
    "\n",
    "# url do site\n",
    "url = 'https://www2.hm.com/en_us/men/products/jeans.html'\n",
    "\n",
    "# Request to URL\n",
    "page = requests.get( url, headers=headers )\n",
    "\n",
    "# Beautifullsoup\n",
    "soup = BeautifulSoup( page.text, 'html.parser' )\n",
    "\n",
    "# ===================  Product Data  =================================\n",
    "products = soup.find('ul', class_= 'products-listing small')\n",
    "product_list = products.find_all('article', class_ = 'hm-product-item')\n",
    "\n",
    "# Product_id\n",
    "product_list[0].get('data-articlecode')\n",
    "product_id = [i.get('data-articlecode') for i in product_list]\n",
    "\n",
    "# Product_category\n",
    "product_list[0].get('data-category')\n",
    "product_category = [i.get('data-category') for i in product_list]\n",
    "\n",
    "# product_name\n",
    "product_list = products.find_all('a', class_= 'item-link' )\n",
    "product_list[0].get('title')\n",
    "product_name = [i.get('title') for i in product_list]\n",
    "\n",
    "# product_price\n",
    "product_list = products.find_all('span', class_='price regular')\n",
    "product_price = [i.get_text() for i in product_list]\n",
    "\n",
    "\n",
    "data = pd.DataFrame([ product_id, product_category, product_name, product_price ]).T\n",
    "data.columns = ['product_id','product_category', 'product_name', 'product_price']\n",
    "\n",
    "# scrapy datetime\n",
    "data['scrapy_datetime'] = datetime.now().strftime( '%Y-%m-%d %H:%M:%S:')\n",
    "# #plotar\n",
    "# data.head()"
   ]
  },
  {
   "cell_type": "code",
   "execution_count": 19,
   "metadata": {},
   "outputs": [
    {
     "data": {
      "text/plain": [
       "(36, 5)"
      ]
     },
     "execution_count": 19,
     "metadata": {},
     "output_type": "execute_result"
    }
   ],
   "source": [
    "data.shape"
   ]
  },
  {
   "cell_type": "code",
   "execution_count": 20,
   "metadata": {},
   "outputs": [
    {
     "data": {
      "text/html": [
       "<div>\n",
       "<style scoped>\n",
       "    .dataframe tbody tr th:only-of-type {\n",
       "        vertical-align: middle;\n",
       "    }\n",
       "\n",
       "    .dataframe tbody tr th {\n",
       "        vertical-align: top;\n",
       "    }\n",
       "\n",
       "    .dataframe thead th {\n",
       "        text-align: right;\n",
       "    }\n",
       "</style>\n",
       "<table border=\"1\" class=\"dataframe\">\n",
       "  <thead>\n",
       "    <tr style=\"text-align: right;\">\n",
       "      <th></th>\n",
       "      <th>product_id</th>\n",
       "      <th>product_name</th>\n",
       "      <th>product_category</th>\n",
       "      <th>product_price</th>\n",
       "      <th>scrapy_datetime</th>\n",
       "    </tr>\n",
       "  </thead>\n",
       "  <tbody>\n",
       "    <tr>\n",
       "      <th>0</th>\n",
       "      <td>1130309005</td>\n",
       "      <td>Baggy Jeans</td>\n",
       "      <td>men_jeans_loose</td>\n",
       "      <td>$ 39.99</td>\n",
       "      <td>2023-10-10 13:25:42:</td>\n",
       "    </tr>\n",
       "    <tr>\n",
       "      <th>1</th>\n",
       "      <td>0979945001</td>\n",
       "      <td>Loose Jeans</td>\n",
       "      <td>men_jeans_loose</td>\n",
       "      <td>$ 39.99</td>\n",
       "      <td>2023-10-10 13:25:42:</td>\n",
       "    </tr>\n",
       "    <tr>\n",
       "      <th>2</th>\n",
       "      <td>0985159001</td>\n",
       "      <td>Skinny Jeans</td>\n",
       "      <td>men_jeans_skinny</td>\n",
       "      <td>$ 29.99</td>\n",
       "      <td>2023-10-10 13:25:42:</td>\n",
       "    </tr>\n",
       "    <tr>\n",
       "      <th>3</th>\n",
       "      <td>1159764002</td>\n",
       "      <td>Bootcut Loose Jeans</td>\n",
       "      <td>men_jeans_bootcut</td>\n",
       "      <td>$ 49.99</td>\n",
       "      <td>2023-10-10 13:25:42:</td>\n",
       "    </tr>\n",
       "    <tr>\n",
       "      <th>4</th>\n",
       "      <td>1024256006</td>\n",
       "      <td>Slim Jeans</td>\n",
       "      <td>men_jeans_slim</td>\n",
       "      <td>$ 24.99</td>\n",
       "      <td>2023-10-10 13:25:42:</td>\n",
       "    </tr>\n",
       "  </tbody>\n",
       "</table>\n",
       "</div>"
      ],
      "text/plain": [
       "   product_id         product_name   product_category product_price  \\\n",
       "0  1130309005          Baggy Jeans    men_jeans_loose       $ 39.99   \n",
       "1  0979945001          Loose Jeans    men_jeans_loose       $ 39.99   \n",
       "2  0985159001         Skinny Jeans   men_jeans_skinny       $ 29.99   \n",
       "3  1159764002  Bootcut Loose Jeans  men_jeans_bootcut       $ 49.99   \n",
       "4  1024256006           Slim Jeans     men_jeans_slim       $ 24.99   \n",
       "\n",
       "        scrapy_datetime  \n",
       "0  2023-10-10 13:25:42:  \n",
       "1  2023-10-10 13:25:42:  \n",
       "2  2023-10-10 13:25:42:  \n",
       "3  2023-10-10 13:25:42:  \n",
       "4  2023-10-10 13:25:42:  "
      ]
     },
     "execution_count": 20,
     "metadata": {},
     "output_type": "execute_result"
    }
   ],
   "source": [
    "data.head()"
   ]
  },
  {
   "cell_type": "code",
   "execution_count": null,
   "metadata": {},
   "outputs": [],
   "source": []
  }
 ],
 "metadata": {
  "kernelspec": {
   "display_name": "Python 3",
   "language": "python",
   "name": "python3"
  },
  "language_info": {
   "codemirror_mode": {
    "name": "ipython",
    "version": 3
   },
   "file_extension": ".py",
   "mimetype": "text/x-python",
   "name": "python",
   "nbconvert_exporter": "python",
   "pygments_lexer": "ipython3",
   "version": "3.9.18"
  },
  "orig_nbformat": 4
 },
 "nbformat": 4,
 "nbformat_minor": 2
}
